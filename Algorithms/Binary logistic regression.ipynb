{
 "cells": [
  {
   "cell_type": "markdown",
   "source": [
    "## Introduction\n",
    "There are many situations where we are interested in outputting a discrete response based on our observations. For example,\n",
    "health condition, win/lose, eye color. In these situations, it does not make sense\n",
    "to model the response as a linear function of the observations (as we did in the linear regression notebook). Using\n",
    "Logistic regression is more appropriate for these problems. Logistic regression models the response variable\n",
    "as the conditional probability given the observations. A probability is a value ranging from 0 to 1,\n",
    "which represents how likely an event is to occur. In this notebook, we will go over the theory behind\n",
    "logistic regression. Furthermore, we will apply it on the\n",
    "[Social Network Ads](https://www.kaggle.com/rakeshrau/social-network-ads) dataset to determine\n",
    "whether a person purchased a particular product given their age, gender, and estimated salary."
   ],
   "metadata": {
    "collapsed": false
   }
  },
  {
   "cell_type": "markdown",
   "source": [
    "## Why logistic regression?\n",
    "We know that linear regression could be used in classification problems.\n",
    "So what is the need for logistic regression in this case? <br>\n",
    "\n",
    "#### Ordinal response\n",
    " Suppose that we are trying to classify vegetables based on their description\n",
    " into one of 3 classes: tomato, onion, carrot. In order for us to apply linear regression,\n",
    "  we will have to encode these classes into a quantitative response variable where:\n",
    " <center>\n",
    " Y = \\begin{cases}\n",
    "       1     & \\text{ if tomato} \\\\\n",
    "       2     & \\text{ if onion} \\\\\n",
    "       3     & \\text{ if carrot} \\\\\n",
    "     \\end{cases}\n",
    " </center>\n",
    " By doing this, we made an assumption about our response classes that\n",
    " may or may not be true. We assumed that the difference between an onion\n",
    " and a tomato is the same as an onion and a carrot, <b>implying that our response is ordinal</b>.\n",
    " <br>\n",
    "\n",
    "#### Continuous response\n",
    " In classification problems, we are trying to constrain the response\n",
    " to a set of discrete values. Unfortunately, that is not possible with linear regression since\n",
    " it has a range $(-\\infty,\\infty)$. Meanwhile, logistic regression restricts\n",
    "  the response variable to $(0,1)$, which can be seen as the probability\n",
    "  of our observation belonging to a specific class $P(y_{j}=1|x_{i})$.\n",
    "<br><br>![linear vs logistic](https://i.stack.imgur.com/rhVmk.jpg)"
   ],
   "metadata": {
    "collapsed": false
   }
  },
  {
   "cell_type": "markdown",
   "source": [
    "## Assumptions\n",
    "There are some assumptions we need to make about the data in order for us to be able\n",
    "to use logistic regression on it. Some of these assumptions are unique to logistic regression,\n",
    "and some are common between all regression models. These assumptions are:\n",
    "\n",
    "#### Appropriate outcome\n",
    "Binary logistic regression requires a dichotomous (binary)\n",
    "response variable and accordingly, ordinal and multinomial logistic regression require ordinal\n",
    "and multinomial responses respectively.\n",
    "\n",
    "#### Linear log-odds (logit)\n",
    "For linear regression the assumption is that the response variable has a linear relationship\n",
    "with the explanatory variables, but this is not possible in logistic regression since the output\n",
    "is a probability. Instead logistic regression requires the explanatory variables to have a linear\n",
    "relationship with with the logit $\\frac{\\hat y}{1 - \\hat y}$.\n",
    "\n",
    "#### Independent observations/errors\n",
    "the observations should not come from repeated measurements or matched data.\n",
    "If the observations are not independent it means that logistic regression produces great variability\n",
    "effects.\n",
    "\n",
    "#### Absence of multicollinearity\n",
    "Multicollinearity occurs when independent variables in a regression model are correlated.\n",
    "Since the goal of regression analysis is to separate the individual effects of independent variables\n",
    "on the response, this can lead to misleading standard errors and in turn, incorrect statistical significance.\n",
    "Multicollinearity can in some cases hinder the model's ability to learn, but in most cases it does not.\n",
    "Thus, it is less of an issue in predictions compared to inference.\n",
    "\n",
    "#### Large sample size\n",
    "Maximum likelihood estimation requires a large sample size\n",
    "in order for it to converge to the estimates. There is no consensus\n",
    "how we choose the sample size, but as a rule of thumb, the minimum number of\n",
    "cases per variable should be 10."
   ],
   "metadata": {
    "collapsed": false
   }
  },
  {
   "cell_type": "markdown",
   "source": [
    "## Model\n",
    "Given a matrix $X \\in R^{m\\times n}$, where each of the $m$ rows represents\n",
    "an observation, and each of the $n$ columns represents the values of a feature, binary\n",
    "logistic regression tries to predict the values in the vector $Y \\in R^{m}$\n",
    "which is either 0 or 1. Our goal is to map our features into probabilities\n",
    " with range $[0,1]$, while maintaining continuity and differentiability.<br><br>\n",
    "\n",
    "In linear regression, we modeled our response using:<br>\n",
    " $$\\begin{align} Y = \\beta^TX \\end{align}$$<br>\n",
    "In logistic regression we will have to transform this response to get the desired range.\n",
    "A suitable function for such transformation is the logistic function: <br>\n",
    "$$ f(x) = \\frac{L} {1 + e^{-k(x-x_0)}}$$,<br> where <br>\n",
    "$x_0=$ the midpoint of the curve <br>\n",
    "$L =$ the maximum value of the curve <br>\n",
    "$k =$ steepness of the curve <br><br>\n",
    "By setting $L = 1, x_0 = 0, k = 1$, we get a function with maximum value of 1\n",
    "and a y-intercept at $x = 0$: <br>\n",
    "$$Y = \\frac{1}{1 + e^{-x}}$$<br>\n",
    "substituting $x$ with our regression line we get:<br>\n",
    "$$P(X) = \\frac{1}{1 + e^{-(\\beta^TX)}}$$<br>\n",
    "As we mentioned before, one of the logistic regression assumptions\n",
    "is that the relationship between the predictors and the log odds(logit)\n",
    " of the response is linear. Odds are the ratio of the chance of some event\n",
    " happening to the chance that it does not. With some manipulation, we see that:<br>\n",
    " $$\\frac{P(X)}{1 - P(X)} = e^{\\beta^TX}$$<br>\n",
    " taking the natural logarithm on both sides we get the log-odds (logit):<br>\n",
    "\n",
    " $$ln(\\frac{P(X)}{1 - P(X)}) = \\beta^TX$$<br>\n",
    "The log odds of our response is in fact linear."
   ],
   "metadata": {
    "collapsed": false
   }
  },
  {
   "cell_type": "markdown",
   "source": [
    "## Error Function\n",
    "For us to find the optimal values for the weights $\\beta$, we have to\n",
    "devise an error function that will tell us the inaccuracies created by our weights $\\beta$.\n",
    "Using OLS for logistic regression leads to poor results due to the gradient vanishing the closer\n",
    "we get to 0, thus hurting our performance. Additionally, in the case of logistic regression OLS\n",
    "becomes non-convex. Therefore, we will use the likelihood function to measure our error.<br><br>\n",
    "\n",
    "Binary Logistic regression assumes the response variable to follow a bernoulli distribution,\n",
    "which is a special case of the binomial distribution. since each of our observations has a different probability of success,\n",
    " we can treat the probability of each data point as a Bernoulli random variable:<br>\n",
    "$$P(Y = y | X = x) = p^k(1-p)^{1-k}$$<br>\n",
    "Furthermore, we notice that $k$ corresponds to\n",
    "the true label of a specific observation $y$, and that $P$ is our predicted value $\\hat y$.\n",
    "This gives us a neat final form for the probability of one data point:<br>\n",
    "$$P(Y = y | X = x) = \\hat y^y(1-\\hat y)^{1-y}$$<br>\n",
    "We would now like to find the likelihood that we observe the response vector $Y$ given the matrix $X$ and our model parameters $\\beta$. To achieve this,\n",
    "we simply take the joint probability of all the data points:<br>\n",
    "$$L(Y|X;\\beta) = \\prod_{i = 1}^m \\hat y^{y^{(i)}}(1-\\hat y)^{1-y^{(i)}}$$<br>\n",
    "Notice that we calculated the joint probability by\n",
    "simply taking the product. This is due to the assumption we made\n",
    "that the observations are independent from each other. This\n",
    "is also an assumption in OLS linear regression considering the fact that OLS is the\n",
    "maximum likelihood for gaussian distributions.<br><br>\n",
    "\n",
    "Using the likelihood as an error function has two considerable drawbacks. The first being the numerical\n",
    "instability caused by multiplying many small probabilities together. And\n",
    "the other being a difficult to compute gradient. Computing the derivative\n",
    "of a product of terms of arbitrary length is not feasible. Fortunately,\n",
    "taking the log of the likelihood function solves both of these issues. Furthermore,\n",
    "the log function is monotonically increasing, which means that maximizing the log-likelihood\n",
    "is the same as maximizing the likelihood.<br>\n",
    "$$log(L(\\beta)) = \\sum_{i = 1}^m  y^{(i)}log(\\hat y)+(1-y^{(i)})log(1-\\hat y)$$<br>\n",
    "\n",
    "The log-likelihood function is a concave function. It reaches a global maximum\n",
    "at the value of population parameters that best explain our data, and it\n",
    "keeps decreasing the farther we deviate from these parameter values.<br><br>\n",
    "\n",
    "Unlike OLS, it is not mathematically possible to find a closed form for the\n",
    "parameters that minimize our error. This is attributed to the fact that the\n",
    "first order derivative of the log-likelihood function w.r.t $\\beta$ is non-linear and\n",
    "cannot be expressed as a finite sequence of algebraic operations.\n",
    "For this reason, we will have to use gradient based approximation methods such as gradient ascent,\n",
    "or the newton-raphson method to approximate the $\\beta$ values that maximize\n",
    "the log-likelihood (and in turn minimize the error)."
   ],
   "metadata": {
    "collapsed": false
   }
  },
  {
   "cell_type": "markdown",
   "source": [
    "##  Newton-raphson approximation\n",
    "\n",
    "Before explaining the newton-raphson method, we first have to go over taylor series. We can express\n",
    "a function as an infinite sum of polynomials in terms of its derivatives around point $a$ given that the function is infinitely\n",
    "differentiable at that point.<br>\n",
    "\n",
    "\\begin{equation}\n",
    "\\begin{split}\n",
    "f(x) = f(a) + f^{'}(a)(x - a) + \\frac{f^{''}(a)(x - a)^2}{2!} + \\frac{f^{'''}(a)(x - a)^3}{3!} +...= \\sum_{n = 0}^\\infty \\frac{f^{(n)}(a)(x - a)^n}{n!}\n",
    "\\end{split}\n",
    "\\end{equation}<br>\n",
    "\n",
    "Newton-raphson tries to approximate the point $x$ at which we know the value of the function $f(x)$.\n",
    "To do this, we take the first two terms in the taylor series and solve for $x$.\n",
    "Consequently, it is a linear approximation method.<br><br>\n",
    "\n",
    "In the case of logistic regression, we are trying to find the values of $\\beta$ that make the first order\n",
    "derivative of the log-likelihood 0 (the maxima). Therefore in this case, it is a quadratic approximation of\n",
    "the log-likelihod, and a linear approximation of its derivative.<br>\n",
    "$$x  =  a - \\frac{f^{'}(a)}{f^{''}(a)}$$<br>\n",
    "In higher dimensions, the matrix of first order partial derivatives is called the jacobian matrix ($\\nabla f(x) = J_f$), and the matrix\n",
    "of second order partial derivatives is called the hessian ($H_f$). If we start at a random $x_t$, we can calculate $x_{t+1}$ by\n",
    "using $x_t$ as $a$. The new $x$ will be closer to the actual value of $x$ as long as we are withing the range of convergence.\n",
    "Hence, we can approximate $\\beta$ as follows:<br>\n",
    "$$\\beta_{t+1}  =  \\beta_{t} - H_f(\\beta_{t})^{-1}J_f(\\beta_{t})$$<br>\n",
    "Let us start by calculating the gradient w.r.t the weight vector $\\beta$<br>\n",
    "\n",
    "\\begin{align*}\n",
    "\\frac{\\partial}{\\partial\\beta} log(L(\\beta)) = \\sum_{i = 1}^m \\frac{\\partial}{\\partial\\beta}\n",
    "y^{(i)}log(\\hat y^{(i)})+ \\sum_{i = 1}^m \\frac{\\partial}{\\partial\\beta} (1-y^{(i)})log(1-\\hat y^{(i)})\n",
    "\\end{align*}<br>\n",
    "\n",
    "we will then find the derivative for each non-constant part of the sum.\n",
    "starting by $log(\\hat y)$:<br>\n",
    "\n",
    "\\begin{align*}\n",
    "\\frac{\\partial}{\\partial\\beta} log(\\hat y) &=\n",
    "\\frac{\\partial}{\\partial\\beta} log(\\frac{1}{1 + e^{-\\beta^Tx}}) \\\\\n",
    " &= - \\frac{\\partial}{\\partial\\beta} log(1 + e^{-\\beta^Tx}) \\\\\n",
    " &= \\frac{xe^{-\\beta^Tx}}{1 + e^{-\\beta^Tx}} \\\\\n",
    " &= x (1 - \\hat y)\n",
    "\\end{align*}<br>\n",
    "\n",
    "Then, the derivative of $log(1-\\hat y)$:<br>\n",
    "\n",
    "\\begin{align*}\n",
    "\\frac{\\partial}{\\partial\\beta} log(1-\\hat y) &=\n",
    "\\frac{\\partial}{\\partial\\beta} log(\\frac{e^{-\\beta^Tx}}{1 + e^{-\\beta^Tx}}) \\\\\n",
    "&= \\frac{\\partial}{\\partial\\beta} [log(e^{-\\beta^Tx}) - log(1 + e^{-\\beta^Tx})] \\\\\n",
    "&= - x - \\frac{\\partial}{\\partial\\beta} log(1 + e^{-\\beta^Tx}) \\\\\n",
    "&= - x + x (1 - \\hat y) \\\\\n",
    "&= - x \\hat y\n",
    "\\end{align*}<br>\n",
    "\n",
    "By plugging our derivative values, we get the full derivative w.r.t $\\beta$:<br>\n",
    "\n",
    "\\begin{align*}\n",
    "&\\sum_{i = 1}^m y^{(i)}x^{(i)} (1 - \\hat y^{(i)}) - x^{(i)} \\hat y^{(i)}(1-y^{(i)}) \\\\\n",
    "&= \\sum_{i = 1}^m x^{(i)}(y^{(i)} - y^{(i)}\\hat y^{(i)} - \\hat y^{(i)} + y^{(i)}\\hat y^{(i)}) \\\\\n",
    "&= \\sum_{i = 1}^m x^{(i)}(y^{(i)} - \\hat y^{(i)})\n",
    "\\end{align*}<br>\n",
    "\n",
    "Generalizing this to get the gradient over $m$ observations, we find that:\n",
    "$$J_f(\\beta) = X^T(Y - \\hat Y)$$<br>\n",
    "Now that we have calculated the gradient, we need to calculate the hessian by taking the derivative\n",
    "of the gradient w.r.t $\\beta$:<br>\n",
    "\n",
    "\\begin{equation}\n",
    "\\frac{\\partial}{\\partial\\beta} \\sum_{i = 1}^m x^{(i)}(y^{(i)} - \\hat y^{(i)})\n",
    "= \\sum_{i = 1}^m -x^{(i)}\\frac{\\partial}{\\partial\\beta} \\hat y^{(i)}\n",
    "\\end{equation}<br>\n",
    "We can calculate the derivative of $\\hat y^{(i)}$ from the derivative of\n",
    "$log(\\hat y^{(i)})$ that we calculated previously:<br>\n",
    "\n",
    "\\begin{align*}\n",
    "\\frac{\\partial}{\\partial\\beta} log(\\hat y) &= \\frac{1}{\\hat y} \\frac{\\partial \\hat y}{\\partial\\beta} \\\\\n",
    "\\frac{\\partial \\hat y}{\\partial\\beta} &= \\hat y \\frac{\\partial}{\\partial\\beta} log(\\hat y) \\\\\n",
    "&= x \\hat y (1 - \\hat y)\n",
    "\\end{align*}<br>\n",
    "Plugging the above value into the equation:<br>\n",
    "\\begin{equation}\n",
    "\\frac{\\partial^2}{\\partial\\beta^2} log(L(\\beta)) = -\\sum_{i = 1}^m x^{(i)}x^{(i)} \\hat y^{(i)} (1 - \\hat y^{(i)})\n",
    "\\end{equation}<br>\n",
    "Using the above equation, we can derive the vector form of the hessian matrix as:<br>\n",
    "$$H_f(\\beta) = -X^Tdiag(\\hat Y(1 - \\hat Y))X$$<br><br>\n",
    "\n",
    "Earlier, we made the claim that the log-likelihood function is concave,\n",
    "we can check this claim by applying the second derivative test using the hessian. In order for\n",
    "a function to be concave, the hessian has to be negative definite, or negative semi-definite\n",
    "at the maximum point $a$.\n",
    "By inspecting the form of our hessian we can see that the term $X^Tdiag(\\hat Y(1 - \\hat Y))X$ will\n",
    "always be non-negative, since it is a dot product of a probability with range $[0,1]$ and\n",
    "a squared term. By adding the negative sign, the expression becomes non-positive.\n",
    "We can prove that our hessian $H$ is negative semi-definite as follows:<br><br>\n",
    "Let $\\delta$ be any vector where $\\delta \\in \\mathbb{R}^n$,<br>\n",
    "Our hessian $H_f(\\beta)$ is a symmetric matrix $\\mathbb{R}^{n \\times n}$<br>\n",
    "\n",
    "\\begin{aligned}\n",
    "\\delta^T H_f(\\beta)\\delta &= -\\delta^T Xdiag(\\hat Y(1 - \\hat Y))X^T \\delta \\\\\n",
    "&= -(\\delta^T X)diag(\\hat Y(1 - \\hat Y))(\\delta^TX)^T \\\\\n",
    "&= -diag(\\hat Y(1 - \\hat Y))||\\delta^TX||^2\n",
    "\\end{aligned}<br>\n",
    "\n",
    "\\begin{equation}\n",
    "-diag(\\hat Y(1 - \\hat Y))||\\delta^TX||^2\\leq 0\n",
    "\\end{equation}<br>\n",
    "additionally, this implies that the eigenvalues of $H$ are non-positive as well:<br>\n",
    "Since, \\begin{equation}\n",
    "H_f(\\beta)\\delta = \\lambda \\delta\n",
    "\\end{equation}<br>\n",
    "\n",
    "\\begin{align*}\n",
    "\\delta^T H_f(\\beta)\\delta = -\\delta^T\\lambda\\delta \\\\\n",
    "= \\lambda||\\delta||^2\n",
    "\\end{align*}<br>\n",
    "\n",
    "In order for the expression to become non-positive,\n",
    "all of the real eigenvalues have to be non-positive as well:<br>\n",
    "$$\\lambda||\\delta||^2 \\leq 0 \\hspace{0.3cm} $$ for $$ \\lambda \\leq 0$$<br>\n",
    "We will verify the correctness of our proof later by making sure that all the eigenvalues\n",
    "of the hessian at the maximum, are non-positive.\n",
    "![negative (semi)definite](https://i.imgur.com/KvCucXS.png)\n",
    "Furthermore, we can see from the figure that negative semi-definite matrices are\n",
    "not strictly concave, which in turn means the there is no unique maxima for the\n",
    "function.<br><br>\n",
    "Finally, after substitution, the expression for a single iteration of the newton-raphson method becomes:<br>\n",
    "$$\\beta_{t+1}  =  \\beta_{t} + (X^Tdiag(\\hat Y(1 - \\hat Y))X)^{-1}X^T(Y - \\hat Y)$$<br>"
   ],
   "metadata": {
    "collapsed": false
   }
  },
  {
   "cell_type": "markdown",
   "source": [
    "## Application\n",
    "Now that we know how logistic regression works, let's make some predictions!\n",
    "\n",
    "Our data set consists of the gender, age, estimated salary of 400 individuals,\n",
    "and whether or not they bought a particular product (our response)."
   ],
   "metadata": {
    "collapsed": false
   }
  },
  {
   "cell_type": "code",
   "execution_count": 9,
   "outputs": [
    {
     "name": "stdout",
     "output_type": "stream",
     "text": [
      "<class 'pandas.core.frame.DataFrame'>\n",
      "RangeIndex: 400 entries, 0 to 399\n",
      "Data columns (total 5 columns):\n",
      " #   Column           Non-Null Count  Dtype \n",
      "---  ------           --------------  ----- \n",
      " 0   User ID          400 non-null    int64 \n",
      " 1   Gender           400 non-null    object\n",
      " 2   Age              400 non-null    int64 \n",
      " 3   EstimatedSalary  400 non-null    int64 \n",
      " 4   Purchased        400 non-null    int64 \n",
      "dtypes: int64(4), object(1)\n",
      "memory usage: 15.8+ KB\n"
     ]
    },
    {
     "data": {
      "text/plain": "    User ID  Gender  Age  EstimatedSalary  Purchased\n0  15624510    Male   19            19000          0\n1  15810944    Male   35            20000          0\n2  15668575  Female   26            43000          0\n3  15603246  Female   27            57000          0\n4  15804002    Male   19            76000          0",
      "text/html": "<div>\n<style scoped>\n    .dataframe tbody tr th:only-of-type {\n        vertical-align: middle;\n    }\n\n    .dataframe tbody tr th {\n        vertical-align: top;\n    }\n\n    .dataframe thead th {\n        text-align: right;\n    }\n</style>\n<table border=\"1\" class=\"dataframe\">\n  <thead>\n    <tr style=\"text-align: right;\">\n      <th></th>\n      <th>User ID</th>\n      <th>Gender</th>\n      <th>Age</th>\n      <th>EstimatedSalary</th>\n      <th>Purchased</th>\n    </tr>\n  </thead>\n  <tbody>\n    <tr>\n      <th>0</th>\n      <td>15624510</td>\n      <td>Male</td>\n      <td>19</td>\n      <td>19000</td>\n      <td>0</td>\n    </tr>\n    <tr>\n      <th>1</th>\n      <td>15810944</td>\n      <td>Male</td>\n      <td>35</td>\n      <td>20000</td>\n      <td>0</td>\n    </tr>\n    <tr>\n      <th>2</th>\n      <td>15668575</td>\n      <td>Female</td>\n      <td>26</td>\n      <td>43000</td>\n      <td>0</td>\n    </tr>\n    <tr>\n      <th>3</th>\n      <td>15603246</td>\n      <td>Female</td>\n      <td>27</td>\n      <td>57000</td>\n      <td>0</td>\n    </tr>\n    <tr>\n      <th>4</th>\n      <td>15804002</td>\n      <td>Male</td>\n      <td>19</td>\n      <td>76000</td>\n      <td>0</td>\n    </tr>\n  </tbody>\n</table>\n</div>"
     },
     "execution_count": 9,
     "metadata": {},
     "output_type": "execute_result"
    }
   ],
   "source": [
    "import numpy as np\n",
    "import pandas as pd\n",
    "from sklearn.model_selection import train_test_split\n",
    "\n",
    "data = pd.read_csv(\"Data/Social_Network_Ads.csv\")\n",
    "\n",
    "data.info()\n",
    "data.head()"
   ],
   "metadata": {
    "collapsed": false,
    "pycharm": {
     "name": "#%%\n"
    }
   }
  },
  {
   "cell_type": "code",
   "execution_count": 10,
   "outputs": [
    {
     "data": {
      "text/plain": "     Gender  Age  EstimatedSalary\n281       1   35            61000\n94        0   29            83000\n73        0   33           113000\n166       0   22            55000\n360       1   43           129000",
      "text/html": "<div>\n<style scoped>\n    .dataframe tbody tr th:only-of-type {\n        vertical-align: middle;\n    }\n\n    .dataframe tbody tr th {\n        vertical-align: top;\n    }\n\n    .dataframe thead th {\n        text-align: right;\n    }\n</style>\n<table border=\"1\" class=\"dataframe\">\n  <thead>\n    <tr style=\"text-align: right;\">\n      <th></th>\n      <th>Gender</th>\n      <th>Age</th>\n      <th>EstimatedSalary</th>\n    </tr>\n  </thead>\n  <tbody>\n    <tr>\n      <th>281</th>\n      <td>1</td>\n      <td>35</td>\n      <td>61000</td>\n    </tr>\n    <tr>\n      <th>94</th>\n      <td>0</td>\n      <td>29</td>\n      <td>83000</td>\n    </tr>\n    <tr>\n      <th>73</th>\n      <td>0</td>\n      <td>33</td>\n      <td>113000</td>\n    </tr>\n    <tr>\n      <th>166</th>\n      <td>0</td>\n      <td>22</td>\n      <td>55000</td>\n    </tr>\n    <tr>\n      <th>360</th>\n      <td>1</td>\n      <td>43</td>\n      <td>129000</td>\n    </tr>\n  </tbody>\n</table>\n</div>"
     },
     "execution_count": 10,
     "metadata": {},
     "output_type": "execute_result"
    }
   ],
   "source": [
    "# separate response variable\n",
    "Y = data[\"Purchased\"]\n",
    "\n",
    "# drop the response variable and id columns\n",
    "data.drop(columns=[\"User ID\", \"Purchased\"],inplace=True)\n",
    "\n",
    "# replace gender with a dummy variable\n",
    "data [\"Gender\"] = pd.Categorical(data[\"Gender\"])\n",
    "data [\"Gender\"] = data[\"Gender\"].cat.codes\n",
    "\n",
    "# 80% train, 20% test\n",
    "X_train,X_test,Y_train,Y_test = train_test_split(data,Y,test_size=0.2,random_state=53)\n",
    "X_train.head()"
   ],
   "metadata": {
    "collapsed": false,
    "pycharm": {
     "name": "#%%\n"
    }
   }
  },
  {
   "cell_type": "code",
   "execution_count": 11,
   "outputs": [],
   "source": [
    "interceptTrain = np.ones((X_train.shape[0],1))\n",
    "interceptTest = np.ones((X_test.shape[0],1))\n",
    "\n",
    "# add a feature of 1s for the y-intercept\n",
    "X_train = X_train.values.reshape(X_train.shape[0],-1)\n",
    "X_train = np.concatenate((interceptTrain,X_train),axis=1)\n",
    "\n",
    "X_test = X_test.values.reshape(X_test.shape[0],-1)\n",
    "X_test = np.concatenate((interceptTest,X_test),axis=1)\n",
    "\n",
    "# correct matrix shapes\n",
    "Y_train = Y_train.values.reshape(Y_train.shape[0],-1)\n",
    "Y_test = Y_test.values.reshape(Y_test.shape[0],-1)"
   ],
   "metadata": {
    "collapsed": false,
    "pycharm": {
     "name": "#%%\n"
    }
   }
  },
  {
   "cell_type": "markdown",
   "source": [
    "Now that we have prepared our data we can start fitting our model"
   ],
   "metadata": {
    "collapsed": false
   }
  },
  {
   "cell_type": "code",
   "execution_count": 12,
   "outputs": [
    {
     "name": "stdout",
     "output_type": "stream",
     "text": [
      "iteration 0:\n",
      "    log-likelihood = -221.807098\n",
      "    training accuracy = 0.328125\n",
      "iteration 1:\n",
      "    log-likelihood = -124.770589\n",
      "    training accuracy = 0.859375\n",
      "iteration 2:\n",
      "    log-likelihood = -107.597276\n",
      "    training accuracy = 0.856250\n",
      "iteration 3:\n",
      "    log-likelihood = -103.602187\n",
      "    training accuracy = 0.862500\n",
      "iteration 4:\n",
      "    log-likelihood = -103.229399\n",
      "    training accuracy = 0.862500\n",
      "iteration 5:\n",
      "    log-likelihood = -103.224745\n",
      "    training accuracy = 0.862500\n",
      "iteration 6:\n",
      "    log-likelihood = -103.224744\n",
      "    training accuracy = 0.862500\n"
     ]
    }
   ],
   "source": [
    "beta = np.zeros((X_train.shape[1],1))\n",
    "\n",
    "# our threshold is 0.5\n",
    "roundToInt = np.vectorize(lambda elem: 1 if elem >= 0.5 else 0)\n",
    "\n",
    "# convergence indicator\n",
    "absStep = 1\n",
    "\n",
    "# iterate until beta converges\n",
    "iterations = 0\n",
    "while absStep > 1e-6:\n",
    "\n",
    "    Y_hat = 1 / (1 + np.exp(-np.dot(X_train,beta)))\n",
    "\n",
    "    ll = np.sum(Y_train * np.log(Y_hat) + (1 - Y_train) * np.log(1 - Y_hat))\n",
    "    accuracy = 1 - np.sum(np.abs(roundToInt(Y_hat) - Y_train))/Y_train.shape[0]\n",
    "    print(\"iteration %d:\"  %iterations)\n",
    "    print(\"    log-likelihood = %f\" %ll)\n",
    "    print(\"    training accuracy = %f\" %accuracy)\n",
    "\n",
    "    jacobian = np.dot(X_train.T,(Y_train - Y_hat))\n",
    "    hessian = -np.dot(np.dot(X_train.T, np.diagflat(Y_hat * (1 - Y_hat))), X_train)\n",
    "\n",
    "    step = np.dot(np.linalg.inv(hessian), jacobian)\n",
    "    absStep = np.sqrt(np.dot(step.T,step))\n",
    "\n",
    "    beta = beta - step\n",
    "\n",
    "    iterations += 1"
   ],
   "metadata": {
    "collapsed": false,
    "pycharm": {
     "name": "#%%\n"
    }
   }
  },
  {
   "cell_type": "markdown",
   "source": [
    "Since our newton algorithm did converge on a value for $\\beta$,\n",
    "we can now verify that we found a maxima."
   ],
   "metadata": {
    "collapsed": false
   }
  },
  {
   "cell_type": "code",
   "execution_count": 13,
   "outputs": [
    {
     "data": {
      "text/plain": "array([-1.95124898e+11, -1.43717458e+04, -8.53240751e+00, -3.82455908e-01])"
     },
     "execution_count": 13,
     "metadata": {},
     "output_type": "execute_result"
    }
   ],
   "source": [
    "np.linalg.eigvalsh(hessian)"
   ],
   "metadata": {
    "collapsed": false,
    "pycharm": {
     "name": "#%%\n"
    }
   }
  },
  {
   "cell_type": "markdown",
   "source": [
    "As we can see, all of the above eigenvalues are indeed negative, confirming the\n",
    "concavity of the log-likelihood, and that our $\\beta$ is a maxima."
   ],
   "metadata": {
    "collapsed": false
   }
  },
  {
   "cell_type": "markdown",
   "source": [
    "## Quality of fit\n",
    "There are many ways to assess the fit of a logistic regression model, such as,\n",
    "chi-squared, pseudo $R^2$, $ROC$ \n",
    "(Receiver Operating Characteristic) curves, etc.\n",
    "below, we will measure how well our model is able to generalize, \n",
    "by predicting the test set. Moreover, we will take a look at the $ROC$\n",
    "curve in order to determine the optimal cutoff threshold for our model."
   ],
   "metadata": {
    "collapsed": false,
    "pycharm": {
     "name": "#%% md\n"
    }
   }
  },
  {
   "cell_type": "markdown",
   "source": [
    "Let us now calculate the model accuracy for the test set:"
   ],
   "metadata": {
    "collapsed": false
   }
  },
  {
   "cell_type": "code",
   "execution_count": 14,
   "outputs": [
    {
     "name": "stdout",
     "output_type": "stream",
     "text": [
      "test accuracy = 0.800000\n"
     ]
    }
   ],
   "source": [
    "Y_hat = 1 / (1 + np.exp(-np.dot(X_test,beta)))\n",
    "predictions_test = roundToInt(Y_hat)\n",
    "accuracy = 1 - np.sum(np.abs(predictions_test - Y_test))/Y_test.shape[0]\n",
    "print(\"test accuracy = %f\" %accuracy)"
   ],
   "metadata": {
    "collapsed": false,
    "pycharm": {
     "name": "#%%\n"
    }
   }
  },
  {
   "cell_type": "markdown",
   "source": [
    "As we can see, the model accuracy is not the best. This error is the result of a\n",
    "violation of the assumptions of logistic regression. Which is very common\n",
    "in real data."
   ],
   "metadata": {
    "collapsed": false
   }
  },
  {
   "cell_type": "markdown",
   "source": [
    "Now let us inspect the confusion matrix of our model given a 0.5 threshold:"
   ],
   "metadata": {
    "collapsed": false
   }
  },
  {
   "cell_type": "code",
   "execution_count": 15,
   "outputs": [
    {
     "data": {
      "text/plain": "<Figure size 432x288 with 2 Axes>",
      "image/png": "[encoded data removed]"
     },
     "metadata": {},
     "output_type": "display_data"
    }
   ],
   "source": [
    "import matplotlib.pyplot as plt\n",
    "import seaborn as sn\n",
    "from sklearn import metrics\n",
    "\n",
    "confusion = metrics.confusion_matrix(Y_test, predictions_test)\n",
    "confusion_df = pd.DataFrame(confusion, range(2), range(2))\n",
    "confusion_df.index.name = 'Actual'\n",
    "confusion_df.columns.name = 'Predicted'\n",
    "sn.set(font_scale=1.4) # for label size\n",
    "sn.heatmap(confusion_df,cmap=\"YlGn\", annot=True, annot_kws={\"size\": 32})\n",
    "\n",
    "plt.show()"
   ],
   "metadata": {
    "collapsed": false,
    "pycharm": {
     "name": "#%%\n"
    }
   }
  },
  {
   "cell_type": "markdown",
   "source": [
    "Can we do better using a different cutoff threshold?\n",
    "The $ROC$ curve has an answer. An $ROC$ curve plots the\n",
    "rate of true positives against the rate of false positives\n",
    "at various threshold values to get a sense of the accuracy\n",
    "of our model. The diagonal line is a model that does\n",
    "not discriminate between positives and negatives. Hence,\n",
    "the equal rates of true positives and false positives. The\n",
    "further the curve is from the diagonal line, the better the model\n",
    "is at discriminating between positives and negatives. Therefore, we can take\n",
    "the AUC (area under the curve) as a measure of how well a model discriminates."
   ],
   "metadata": {
    "collapsed": false
   }
  },
  {
   "cell_type": "code",
   "execution_count": 16,
   "outputs": [
    {
     "data": {
      "text/plain": "<Figure size 432x288 with 1 Axes>",
      "image/png": "[encoded data removed]"
     },
     "metadata": {},
     "output_type": "display_data"
    }
   ],
   "source": [
    "fpr, tpr, thresholds = metrics.roc_curve(Y_test, Y_hat)\n",
    "roc_auc = metrics.auc(fpr, tpr)\n",
    "\n",
    "plt.title('Receiver Operating Characteristic')\n",
    "plt.plot(fpr, tpr, 'b', label = 'AUC = %0.2f' % roc_auc)\n",
    "plt.legend(loc = 'lower right')\n",
    "plt.plot([0, 1], [0, 1],'r--')\n",
    "plt.axis('tight')\n",
    "plt.ylabel('True Positive Rate')\n",
    "plt.xlabel('False Positive Rate')\n",
    "\n",
    "plt.show()"
   ],
   "metadata": {
    "collapsed": false,
    "pycharm": {
     "name": "#%%\n"
    }
   }
  },
  {
   "cell_type": "markdown",
   "source": [
    "Given our data, true positives have the same importance as true negatives.\n",
    "Thus, The optimal threshold is the one that gives us the maximum difference between the true positive rate and\n",
    "the false positive rate for the test set."
   ],
   "metadata": {
    "collapsed": false
   }
  },
  {
   "cell_type": "code",
   "execution_count": 17,
   "outputs": [
    {
     "data": {
      "text/plain": "<pandas.io.formats.style.Styler at 0x1203a96d0>",
      "text/html": "<style  type=\"text/css\" >\n</style><table id=\"T_890eba02_f86c_11ea_bccc_88e9fe4f1230\" ><thead>    <tr>        <th class=\"col_heading level0 col0\" >threshold</th>        <th class=\"col_heading level0 col1\" >tpr - fpr</th>    </tr></thead><tbody>\n                <tr>\n                                <td id=\"T_890eba02_f86c_11ea_bccc_88e9fe4f1230row0_col0\" class=\"data row0 col0\" >0.220736</td>\n                        <td id=\"T_890eba02_f86c_11ea_bccc_88e9fe4f1230row0_col1\" class=\"data row0 col1\" >0.709273</td>\n            </tr>\n            <tr>\n                                <td id=\"T_890eba02_f86c_11ea_bccc_88e9fe4f1230row1_col0\" class=\"data row1 col0\" >0.271187</td>\n                        <td id=\"T_890eba02_f86c_11ea_bccc_88e9fe4f1230row1_col1\" class=\"data row1 col1\" >0.706767</td>\n            </tr>\n            <tr>\n                                <td id=\"T_890eba02_f86c_11ea_bccc_88e9fe4f1230row2_col0\" class=\"data row2 col0\" >0.462862</td>\n                        <td id=\"T_890eba02_f86c_11ea_bccc_88e9fe4f1230row2_col1\" class=\"data row2 col1\" >0.691729</td>\n            </tr>\n            <tr>\n                                <td id=\"T_890eba02_f86c_11ea_bccc_88e9fe4f1230row3_col0\" class=\"data row3 col0\" >0.226792</td>\n                        <td id=\"T_890eba02_f86c_11ea_bccc_88e9fe4f1230row3_col1\" class=\"data row3 col1\" >0.682957</td>\n            </tr>\n            <tr>\n                                <td id=\"T_890eba02_f86c_11ea_bccc_88e9fe4f1230row4_col0\" class=\"data row4 col0\" >0.337966</td>\n                        <td id=\"T_890eba02_f86c_11ea_bccc_88e9fe4f1230row4_col1\" class=\"data row4 col1\" >0.675439</td>\n            </tr>\n            <tr>\n                                <td id=\"T_890eba02_f86c_11ea_bccc_88e9fe4f1230row5_col0\" class=\"data row5 col0\" >0.355168</td>\n                        <td id=\"T_890eba02_f86c_11ea_bccc_88e9fe4f1230row5_col1\" class=\"data row5 col1\" >0.672932</td>\n            </tr>\n            <tr>\n                                <td id=\"T_890eba02_f86c_11ea_bccc_88e9fe4f1230row6_col0\" class=\"data row6 col0\" >0.348887</td>\n                        <td id=\"T_890eba02_f86c_11ea_bccc_88e9fe4f1230row6_col1\" class=\"data row6 col1\" >0.649123</td>\n            </tr>\n            <tr>\n                                <td id=\"T_890eba02_f86c_11ea_bccc_88e9fe4f1230row7_col0\" class=\"data row7 col0\" >0.290215</td>\n                        <td id=\"T_890eba02_f86c_11ea_bccc_88e9fe4f1230row7_col1\" class=\"data row7 col1\" >0.627820</td>\n            </tr>\n            <tr>\n                                <td id=\"T_890eba02_f86c_11ea_bccc_88e9fe4f1230row8_col0\" class=\"data row8 col0\" >0.410862</td>\n                        <td id=\"T_890eba02_f86c_11ea_bccc_88e9fe4f1230row8_col1\" class=\"data row8 col1\" >0.620301</td>\n            </tr>\n            <tr>\n                                <td id=\"T_890eba02_f86c_11ea_bccc_88e9fe4f1230row9_col0\" class=\"data row9 col0\" >0.510274</td>\n                        <td id=\"T_890eba02_f86c_11ea_bccc_88e9fe4f1230row9_col1\" class=\"data row9 col1\" >0.610276</td>\n            </tr>\n            <tr>\n                                <td id=\"T_890eba02_f86c_11ea_bccc_88e9fe4f1230row10_col0\" class=\"data row10 col0\" >0.501847</td>\n                        <td id=\"T_890eba02_f86c_11ea_bccc_88e9fe4f1230row10_col1\" class=\"data row10 col1\" >0.586466</td>\n            </tr>\n            <tr>\n                                <td id=\"T_890eba02_f86c_11ea_bccc_88e9fe4f1230row11_col0\" class=\"data row11 col0\" >0.126464</td>\n                        <td id=\"T_890eba02_f86c_11ea_bccc_88e9fe4f1230row11_col1\" class=\"data row11 col1\" >0.521303</td>\n            </tr>\n            <tr>\n                                <td id=\"T_890eba02_f86c_11ea_bccc_88e9fe4f1230row12_col0\" class=\"data row12 col0\" >0.136970</td>\n                        <td id=\"T_890eba02_f86c_11ea_bccc_88e9fe4f1230row12_col1\" class=\"data row12 col1\" >0.494987</td>\n            </tr>\n            <tr>\n                                <td id=\"T_890eba02_f86c_11ea_bccc_88e9fe4f1230row13_col0\" class=\"data row13 col0\" >0.037532</td>\n                        <td id=\"T_890eba02_f86c_11ea_bccc_88e9fe4f1230row13_col1\" class=\"data row13 col1\" >0.357143</td>\n            </tr>\n            <tr>\n                                <td id=\"T_890eba02_f86c_11ea_bccc_88e9fe4f1230row14_col0\" class=\"data row14 col0\" >0.044481</td>\n                        <td id=\"T_890eba02_f86c_11ea_bccc_88e9fe4f1230row14_col1\" class=\"data row14 col1\" >0.330827</td>\n            </tr>\n            <tr>\n                                <td id=\"T_890eba02_f86c_11ea_bccc_88e9fe4f1230row15_col0\" class=\"data row15 col0\" >0.988110</td>\n                        <td id=\"T_890eba02_f86c_11ea_bccc_88e9fe4f1230row15_col1\" class=\"data row15 col1\" >0.160401</td>\n            </tr>\n            <tr>\n                                <td id=\"T_890eba02_f86c_11ea_bccc_88e9fe4f1230row16_col0\" class=\"data row16 col0\" >0.990307</td>\n                        <td id=\"T_890eba02_f86c_11ea_bccc_88e9fe4f1230row16_col1\" class=\"data row16 col1\" >0.157895</td>\n            </tr>\n            <tr>\n                                <td id=\"T_890eba02_f86c_11ea_bccc_88e9fe4f1230row17_col0\" class=\"data row17 col0\" >0.976735</td>\n                        <td id=\"T_890eba02_f86c_11ea_bccc_88e9fe4f1230row17_col1\" class=\"data row17 col1\" >0.136591</td>\n            </tr>\n            <tr>\n                                <td id=\"T_890eba02_f86c_11ea_bccc_88e9fe4f1230row18_col0\" class=\"data row18 col0\" >0.988761</td>\n                        <td id=\"T_890eba02_f86c_11ea_bccc_88e9fe4f1230row18_col1\" class=\"data row18 col1\" >0.134085</td>\n            </tr>\n            <tr>\n                                <td id=\"T_890eba02_f86c_11ea_bccc_88e9fe4f1230row19_col0\" class=\"data row19 col0\" >0.998429</td>\n                        <td id=\"T_890eba02_f86c_11ea_bccc_88e9fe4f1230row19_col1\" class=\"data row19 col1\" >0.026316</td>\n            </tr>\n            <tr>\n                                <td id=\"T_890eba02_f86c_11ea_bccc_88e9fe4f1230row20_col0\" class=\"data row20 col0\" >1.998429</td>\n                        <td id=\"T_890eba02_f86c_11ea_bccc_88e9fe4f1230row20_col1\" class=\"data row20 col1\" >0.000000</td>\n            </tr>\n            <tr>\n                                <td id=\"T_890eba02_f86c_11ea_bccc_88e9fe4f1230row21_col0\" class=\"data row21 col0\" >0.000936</td>\n                        <td id=\"T_890eba02_f86c_11ea_bccc_88e9fe4f1230row21_col1\" class=\"data row21 col1\" >0.000000</td>\n            </tr>\n    </tbody></table>"
     },
     "execution_count": 17,
     "metadata": {},
     "output_type": "execute_result"
    }
   ],
   "source": [
    "tpr_fpr = tpr - fpr\n",
    "\n",
    "tpr_fpr_df = pd.DataFrame({'threshold': thresholds,'tpr - fpr': tpr_fpr},)\n",
    "tpr_fpr_df.sort_values(by='tpr - fpr',ascending=False,inplace=True,ignore_index=True)\n",
    "\n",
    "tpr_fpr_df.style.hide_index()"
   ],
   "metadata": {
    "collapsed": false,
    "pycharm": {
     "name": "#%%\n"
    }
   }
  },
  {
   "cell_type": "markdown",
   "source": [
    "As seen by the table above, $0.220736$ seems to be the optimal threshold.\n",
    "Let us find out if using it improves our test accuracy."
   ],
   "metadata": {
    "collapsed": false
   }
  },
  {
   "cell_type": "code",
   "execution_count": 18,
   "outputs": [
    {
     "name": "stdout",
     "output_type": "stream",
     "text": [
      "test accuracy = 0.850000\n"
     ]
    }
   ],
   "source": [
    "roundToInt = np.vectorize(lambda elem: 1 if elem >= 0.220736 else 0)\n",
    "\n",
    "predictions_test = roundToInt(Y_hat)\n",
    "accuracy = 1 - np.sum(np.abs(predictions_test - Y_test))/Y_test.shape[0]\n",
    "print(\"test accuracy = %f\" %accuracy)"
   ],
   "metadata": {
    "collapsed": false,
    "pycharm": {
     "name": "#%%\n"
    }
   }
  },
  {
   "cell_type": "markdown",
   "source": [
    "It looks like our test accuracy has increased, but let us look at the\n",
    "new confusion matrix."
   ],
   "metadata": {
    "collapsed": false
   }
  },
  {
   "cell_type": "code",
   "source": [
    "confusion = metrics.confusion_matrix(Y_test, predictions_test)\n",
    "confusion_df = pd.DataFrame(confusion, range(2), range(2))\n",
    "confusion_df.index.name = 'Actual'\n",
    "confusion_df.columns.name = 'Predicted'\n",
    "sn.set(font_scale=1.4) # for label size\n",
    "sn.heatmap(confusion_df,cmap=\"YlGn\", annot=True, annot_kws={\"size\": 32})\n",
    "\n",
    "plt.show()"
   ],
   "metadata": {
    "collapsed": false,
    "pycharm": {
     "name": "#%%\n"
    }
   },
   "execution_count": 19,
   "outputs": [
    {
     "data": {
      "text/plain": "<Figure size 432x288 with 2 Axes>",
      "image/png": "[encoded data removed]"
     },
     "metadata": {},
     "output_type": "display_data"
    }
   ]
  },
  {
   "cell_type": "markdown",
   "source": [
    "The new threshold decreased the False negatives, but on the other hand,\n",
    "it increased the false positives. Additionally, it reduced the error by 4 observations.\n",
    "this is trivial and could be attributed to luck. We would not be able to tell if this new \n",
    "cutoff value is better without testing it on more data. The more data we test the thresholds on, \n",
    "the better we can tell the difference between them."
   ],
   "metadata": {
    "collapsed": false
   }
  },
  {
   "cell_type": "markdown",
   "source": [
    "## Conclusion\n",
    "Binary logistic regression is an algorithm that discriminates between two categories. The response is\n",
    "modeled as a probability as opposed to linear regression's continuous response. It is a generalized linear model, meaning that it draws a linear decision boundary and is best\n",
    "applied to linearly separable data. It assumes a bernoulli distribution for the response\n",
    "and it tries to maximize the likelihood function in order for it to find the model parameters.\n",
    "Unfortunately, we cannot find a closed for for the parameters due to the non-linearity\n",
    "of the log-likelihood and sigmoid functions. We use gradient based approximation algorithms such as\n",
    "gradient ascent, or newton-raphson to approximate the parameters."
   ],
   "metadata": {
    "collapsed": false
   }
  }
 ],
 "metadata": {
  "kernelspec": {
   "display_name": "Python 3",
   "language": "python",
   "name": "python3"
  },
  "language_info": {
   "codemirror_mode": {
    "name": "ipython",
    "version": 2
   },
   "file_extension": ".py",
   "mimetype": "text/x-python",
   "name": "python",
   "nbconvert_exporter": "python",
   "pygments_lexer": "ipython2",
   "version": "2.7.6"
  }
 },
 "nbformat": 4,
 "nbformat_minor": 0
}
