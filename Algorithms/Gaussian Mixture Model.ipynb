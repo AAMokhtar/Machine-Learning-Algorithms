{
  "cells": [
    {
      "cell_type": "code",
      "execution_count": 15,
      "metadata": {
        "colab": {
          "base_uri": "https://localhost:8080/"
        },
        "id": "iLgVTnbfkpMm",
        "outputId": "3d20fa42-a3e9-40ef-95f7-2c2e3f33d8e1"
      },
      "outputs": [
        {
          "output_type": "stream",
          "name": "stdout",
          "text": [
            "Cloning into 'cifar10'...\n",
            "remote: Enumerating objects: 18014, done.\u001b[K\n",
            "remote: Counting objects: 100% (2/2), done.\u001b[K\n",
            "remote: Total 18014 (delta 0), reused 2 (delta 0), pack-reused 18012\u001b[K\n",
            "Receiving objects: 100% (18014/18014), 6.08 MiB | 10.90 MiB/s, done.\n",
            "Resolving deltas: 100% (17992/17992), done.\n"
          ]
        }
      ],
      "source": [
        "# copy dataset from repo + cleanup\n",
        "import shutil\n",
        "\n",
        "!git clone https://github.com/lemonpudding-datasets/cifar10.git\n",
        "\n",
        "shutil.move(\"cifar10/Data\", \"Data/cifar3\")\n",
        "shutil.rmtree('cifar10')"
      ]
    },
    {
      "cell_type": "markdown",
      "metadata": {
        "id": "u60q8xmCkCUp"
      },
      "source": [
        "## Imports"
      ]
    },
    {
      "cell_type": "code",
      "execution_count": 16,
      "metadata": {
        "id": "mozmdSx8kCUq"
      },
      "outputs": [],
      "source": [
        "# ONLY USE THESE IMPORTS.\n",
        "# PLEASE DON'T EDIT THIS CELL.\n",
        "import numpy as np\n",
        "import matplotlib.pyplot as plt\n",
        "import cv2\n",
        "%matplotlib inline\n",
        "confusion_matrices_nb = []\n",
        "confusion_matrices_gm = []"
      ]
    },
    {
      "cell_type": "markdown",
      "metadata": {
        "id": "4wAfFS6hkCUs"
      },
      "source": [
        "## Read Data"
      ]
    },
    {
      "cell_type": "code",
      "execution_count": 17,
      "metadata": {
        "id": "kcKh_y89s1nI"
      },
      "outputs": [],
      "source": [
        "# cannot import OS :(, i have to hardcode folder names.\n",
        "def load_raw_set(train_test):\n",
        "  path = 'Data/cifar3/' + train_test\n",
        "  classes = ['airplane', 'automobile', 'frog']\n",
        "  imgs_per_class = 5000 if train_test == 'train' else 1000\n",
        "\n",
        "  # data shape\n",
        "  n = imgs_per_class * len(classes)\n",
        "  m = 32\n",
        "  p = 32\n",
        "  l = 3\n",
        "\n",
        "  # allocate memory in advance (faster)\n",
        "  X = np.zeros(shape=(n,m, p, l))\n",
        "  y = np.zeros(shape=(n,), dtype=object)\n",
        "\n",
        "  # load all images \n",
        "  for class_indx, class_name in enumerate(classes):\n",
        "    for img_indx in range(imgs_per_class):\n",
        "      img_path = path + '/' + class_name + '/' + str(img_indx) + '.jpg'\n",
        "      \n",
        "      # each RGB image is loaded then added to the dataset\n",
        "      set_indx = imgs_per_class * class_indx + img_indx - 1\n",
        "      X[set_indx] = plt.imread(img_path)\n",
        "      y[set_indx] = class_indx\n",
        "  return X, y"
      ]
    },
    {
      "cell_type": "markdown",
      "metadata": {
        "id": "TqXCn3AGXNDl"
      },
      "source": [
        "## Image Resizing & Flattening"
      ]
    },
    {
      "cell_type": "code",
      "execution_count": 18,
      "metadata": {
        "id": "cHOoMm8i1Sjd"
      },
      "outputs": [],
      "source": [
        "def resize_flatten(dataset, new_size=32):\n",
        "\n",
        "  # new dimesions after flattening \n",
        "  n = dataset.shape[0]\n",
        "  m = new_size * new_size * dataset.shape[3]\n",
        "\n",
        "  # allocate memory in advance (faster)\n",
        "  X = np.zeros(shape=(n,m))\n",
        "\n",
        "  for indx, img in enumerate(dataset):\n",
        "\n",
        "    # resize image if the new size is different from the old\n",
        "    if(new_size != dataset.shape[1]):\n",
        "      img = cv2.resize(img, (new_size,new_size), interpolation=cv2.INTER_AREA)\n",
        "    \n",
        "    # flatten image and save it (n, new_size * new size * 3)\n",
        "    X[indx] = img.reshape(1, -1)\n",
        "  return X\n"
      ]
    },
    {
      "cell_type": "markdown",
      "metadata": {
        "id": "tJvh50b1XaJG"
      },
      "source": [
        "## Scale Training Set"
      ]
    },
    {
      "cell_type": "code",
      "execution_count": 19,
      "metadata": {
        "id": "5ZV9A63E4KkS"
      },
      "outputs": [],
      "source": [
        "# load train and test sets, then scale them\n",
        "X_train_raw, y_train = load_raw_set('train')\n",
        "X_train_raw /= 255\n",
        "\n",
        "X_test_raw, y_test = load_raw_set('test')\n",
        "X_test_raw /= 255"
      ]
    },
    {
      "cell_type": "markdown",
      "metadata": {
        "id": "cTpJKR-IkCUu"
      },
      "source": [
        "## Gaussian Generative Model Classifier"
      ]
    },
    {
      "cell_type": "markdown",
      "metadata": {
        "id": "gD4R2_EWD5HI"
      },
      "source": [
        "### Helper Functions"
      ]
    },
    {
      "cell_type": "markdown",
      "metadata": {
        "id": "q-_t1f5LXqn1"
      },
      "source": [
        "#### I. Group Dataset by Class"
      ]
    },
    {
      "cell_type": "code",
      "execution_count": 21,
      "metadata": {
        "id": "IKMycPrV2SnB"
      },
      "outputs": [],
      "source": [
        "# useful for future calculations\n",
        "def split_classes(samples, labels):\n",
        "  # a dictionary having labels as keys, and a list of samples as values for each label\n",
        "  label_dict = {0: [], 1: [], 2: []}\n",
        "\n",
        "  # assign samples to their buckets\n",
        "  for indx, sample in enumerate(samples):\n",
        "    label = labels[indx]\n",
        "    label_dict[label].append(sample)\n",
        "\n",
        "  # convert lists into numpy arrays\n",
        "  label_dict[0] = np.array(label_dict[0])\n",
        "  label_dict[1] = np.array(label_dict[1])\n",
        "  label_dict[2] = np.array(label_dict[2])\n",
        "\n",
        "  return label_dict"
      ]
    },
    {
      "cell_type": "markdown",
      "metadata": {
        "id": "lc0Ni77kamow"
      },
      "source": [
        "#### II. Gaussian Parameters For a Given Set"
      ]
    },
    {
      "cell_type": "code",
      "execution_count": 22,
      "metadata": {
        "id": "eosypjkG64JU"
      },
      "outputs": [],
      "source": [
        "# features (pixels) are normally distributed\n",
        "# we need a way to calculate feature parameters (mean, std)\n",
        "def get_params(samples, get_std):\n",
        "  params = {\"mean\": []}\n",
        "\n",
        "  if(get_std):\n",
        "    params[\"std\"] = []\n",
        "\n",
        "  for feature in samples.T:\n",
        "    params[\"mean\"].append(feature.mean()) # add feature mean to means\n",
        "\n",
        "    if(get_std):\n",
        "      params[\"std\"].append(feature.std()) # add feature std to stds\n",
        "\n",
        "  # convert lists into numpy arrays\n",
        "  params[\"mean\"] = np.array(params[\"mean\"])\n",
        "\n",
        "  if(get_std):\n",
        "    params[\"std\"] = np.array(params[\"std\"])\n",
        "\n",
        "  return params"
      ]
    },
    {
      "cell_type": "markdown",
      "metadata": {
        "id": "mpGZ5PubaRya"
      },
      "source": [
        "#### III. Guassian Parameters of All Classes"
      ]
    },
    {
      "cell_type": "code",
      "execution_count": 23,
      "metadata": {
        "id": "9knrrFmL_65s"
      },
      "outputs": [],
      "source": [
        "def params_per_class(class_dict, get_std):\n",
        "  class_params_dict = {}\n",
        "  class_lengths = {}\n",
        "\n",
        "  # calculate means and stds for each class\n",
        "  for class_indx, class_samples in class_dict.items():\n",
        "    class_params_dict[class_indx] = get_params(class_samples, get_std) # means & std\n",
        "    class_lengths[class_indx] = len(class_dict[class_indx]) # number of samples a class\n",
        "                   \n",
        "  return class_params_dict, class_lengths"
      ]
    },
    {
      "cell_type": "markdown",
      "metadata": {
        "id": "4XQe6iBED_W5"
      },
      "source": [
        "#### IV. Covariance"
      ]
    },
    {
      "cell_type": "code",
      "execution_count": 24,
      "metadata": {
        "id": "RBSCt12lCuWa"
      },
      "outputs": [],
      "source": [
        "def covariance(classes_separated, params_dict, class_lengths):\n",
        "  N = sum(class_lengths.values()) # total number of samples in training set\n",
        "  feature_num = len(classes_separated[0][0]) # number of features per sample\n",
        "  cov_mat = np.zeros((feature_num, feature_num)) # empty cov ariance matrix\n",
        "\n",
        "  # sum of class covariances\n",
        "  for class_indx, class_samples in classes_separated.items():\n",
        "    class_params = params_dict[class_indx] # calculates class mean\n",
        "    centered = class_samples - class_params[\"mean\"] # center the samples \n",
        "\n",
        "    # (#features, #samples) . (#samples, #features) = (#features, #features)\n",
        "    cov_mat += len(class_samples) * np.dot(centered.T, centered)\n",
        "\n",
        "  # divide by the total number of samples\n",
        "  cov_mat /= N\n",
        "\n",
        "  return cov_mat\n",
        "  "
      ]
    },
    {
      "cell_type": "markdown",
      "metadata": {
        "id": "JUS3gurrEGHB"
      },
      "source": [
        "#### V. Class Probabilities"
      ]
    },
    {
      "cell_type": "code",
      "execution_count": 25,
      "metadata": {
        "id": "QXLr4CFtSk2d"
      },
      "outputs": [],
      "source": [
        "def get_class_prob_gaussian_gen(params_dict, cov_inv, rows):\n",
        "\n",
        "  # if the input is a single sample increase dimensions\n",
        "  if(np.ndim(rows) < 2):\n",
        "    rows = np.expand_dims(rows, 0)\n",
        "\n",
        "  probs = np.zeros((rows.shape[0], 3))\n",
        "\n",
        "  for class_indx, class_params in params_dict.items():\n",
        "    means = class_params[\"mean\"]\n",
        "    centered = rows - means\n",
        "\n",
        "    CCov = np.dot(centered, cov_inv)\n",
        "    CCovCT = np.dot(CCov, centered.T) # (#samples, #samples)\n",
        "    \n",
        "    # probabilities are along the diagonal\n",
        "    CCovCT = CCovCT.diagonal()\n",
        "\n",
        "    prob = np.exp(-0.5 * CCovCT) \n",
        "    probs[:, class_indx] = prob\n",
        "\n",
        "  return probs"
      ]
    },
    {
      "cell_type": "markdown",
      "metadata": {
        "id": "0VX5uSxjEa9u"
      },
      "source": [
        "#### VI. Train and Test Gaussian Generative Model"
      ]
    },
    {
      "cell_type": "code",
      "execution_count": 26,
      "metadata": {
        "id": "NGrXSecIckg0"
      },
      "outputs": [],
      "source": [
        "def train_predict_gaussian_gen(X_train, y_train, X_test, y_test): \n",
        "  classes_separated = split_classes(X_train, y_train) # separate classes\n",
        "  params_dict, class_lengths = params_per_class(classes_separated, False) # get the means\n",
        "\n",
        "  cov = covariance(classes_separated, params_dict, class_lengths) # covariance matrix\n",
        "  cov_inv = np.linalg.pinv(cov) # invert covariance matrix\n",
        "  probs = get_class_prob_gaussian_gen(params_dict, cov_inv, X_test) # class probabilities\n",
        "  y_pred = np.argmax(probs, axis=1) # predict class\n",
        "\n",
        "  return conf_mat(y_pred, y_test)"
      ]
    },
    {
      "cell_type": "markdown",
      "metadata": {
        "id": "men1SddEb-oW"
      },
      "source": [
        "#### VII. Confusion matrix"
      ]
    },
    {
      "cell_type": "code",
      "execution_count": 20,
      "metadata": {
        "id": "oiyG8x_Mt-rk"
      },
      "outputs": [],
      "source": [
        "def conf_mat(y_pred, y_true):\n",
        "  mat = np.zeros((3, 3)) # matrix size for 3 classes\n",
        "\n",
        "  # populate the matrix\n",
        "  for i in range(len(y_true)):\n",
        "    mat[y_pred[i], y_true[i]]+=1\n",
        "\n",
        "  return mat"
      ]
    },
    {
      "cell_type": "markdown",
      "metadata": {
        "id": "ktfHZpYGs6Jd"
      },
      "source": [
        "### Gaussian Generative Classifier on 32x32 Images"
      ]
    },
    {
      "cell_type": "code",
      "execution_count": 27,
      "metadata": {
        "id": "svrlCaLJgJ8C"
      },
      "outputs": [],
      "source": [
        "confusion_matrices_gm = []\n",
        "\n",
        "# flatten the images \n",
        "X_train32 = resize_flatten(X_train_raw)\n",
        "X_test32 = resize_flatten(X_test_raw)\n",
        "\n",
        "\n",
        "# train gaussian generative model on training set, predict test set, return confusion matrix\n",
        "confusion_matrices_gm.append(train_predict_gaussian_gen(X_train32, y_train, X_test32, y_test))"
      ]
    },
    {
      "cell_type": "markdown",
      "metadata": {
        "id": "6UMMMfOptebq"
      },
      "source": [
        "### Gaussian Generative Classifier on 16x16 Images"
      ]
    },
    {
      "cell_type": "code",
      "execution_count": 28,
      "metadata": {
        "id": "q4tAtTtSkCUv"
      },
      "outputs": [],
      "source": [
        "# train gaussian generative model on training set, predict test set, return confusion matrix\n",
        "\n",
        "# flatten and resize the images \n",
        "X_train16 = resize_flatten(X_train_raw, 16)\n",
        "X_test16 = resize_flatten(X_test_raw, 16)\n",
        "\n",
        "confusion_matrices_gm.append(train_predict_gaussian_gen(X_train16, y_train, X_test16, y_test))"
      ]
    },
    {
      "cell_type": "markdown",
      "metadata": {
        "id": "466KK3R6tgsh"
      },
      "source": [
        "### Gaussian Generative Classifier on 8x8 Images"
      ]
    },
    {
      "cell_type": "code",
      "execution_count": 30,
      "metadata": {
        "id": "QXxsBTQetUpF"
      },
      "outputs": [],
      "source": [
        "# train gaussian generative model on training set, predict test set, return confusion matrix\n",
        "\n",
        "# flatten and resize the images \n",
        "X_train8 = resize_flatten(X_train_raw, 8)\n",
        "X_test8 = resize_flatten(X_test_raw, 8)\n",
        "\n",
        "confusion_matrices_gm.append(train_predict_gaussian_gen(X_train8, y_train, X_test8, y_test))"
      ]
    },
    {
      "cell_type": "markdown",
      "metadata": {
        "id": "Gphf7AOWtiif"
      },
      "source": [
        "### Gaussian Generative Classifier on 4x4 Images"
      ]
    },
    {
      "cell_type": "code",
      "execution_count": 31,
      "metadata": {
        "id": "SvVX0q6OtVIw"
      },
      "outputs": [],
      "source": [
        "# train gaussian generative model on training set, predict test set, return confusion matrix\n",
        "\n",
        "# flatten and resize the images \n",
        "X_train4 = resize_flatten(X_train_raw, 4)\n",
        "X_test4 = resize_flatten(X_test_raw, 4)\n",
        "\n",
        "confusion_matrices_gm.append(train_predict_gaussian_gen(X_train4, y_train, X_test4, y_test))"
      ]
    },
    {
      "cell_type": "markdown",
      "source": [
        "### Confusion Matrices"
      ],
      "metadata": {
        "id": "Oywy5uOmwlW6"
      }
    },
    {
      "cell_type": "code",
      "execution_count": 42,
      "metadata": {
        "colab": {
          "base_uri": "https://localhost:8080/",
          "height": 500
        },
        "id": "yXJgAqK0kCUx",
        "outputId": "1cbdbb14-6b6b-4c6f-cf4e-5920f8b1e491"
      },
      "outputs": [
        {
          "output_type": "display_data",
          "data": {
            "text/plain": [
              "<Figure size 1440x720 with 4 Axes>"
            ],
            "image/png": "[encoded data removed]"
          },
          "metadata": {}
        }
      ],
      "source": [
        "dims = [32,16,8,4,32,16,8,4]\n",
        "fig, axs = plt.subplots(1, 4,figsize=(20,10))\n",
        "fig.suptitle(\"Confusion Matrix for each Scale\",fontsize=30)\n",
        "for pi in range(0,axs.shape[0]):\n",
        "  cm = confusion_matrices_gm[pi]\n",
        "  axs[pi].matshow(cm,cmap=\"Blues\")\n",
        "  axs[pi].set_title(\"For d=\"+str(dims[pi])+\" ,acc=\"+str(np.round(np.diag(cm).sum()/3000,3)),fontsize=20)\n",
        "  for i in range(0,cm.shape[0]):\n",
        "    for j in range(0,cm.shape[1]):\n",
        "      axs[pi].set_xticks([])\n",
        "      axs[pi].set_yticks([])\n",
        "      axs[pi].annotate(cm[i,j],(j,i))"
      ]
    },
    {
      "cell_type": "markdown",
      "source": [
        "### Discussion"
      ],
      "metadata": {
        "id": "byoZ7i7Zwugl"
      }
    },
    {
      "cell_type": "markdown",
      "metadata": {
        "id": "23ggCNS6kCUy"
      },
      "source": [
        "For this particular dataset, maximum likelihood classifiers performs better than Naïve Bayes classifiers. This is attributed to the often incorrect assumption of feature independence made by Naïve Bayes.\n",
        "\n",
        "Since we are working with images, and each pixel represents a feature, one can clearly see that features are bound to be correlated (ex. pixels that make up the airplane, automobile, frog, or other objects). \n",
        "\n",
        "\n",
        "<center><img src=\"https://i.imgur.com/1TXTApx.png\" width=200/></center>\n",
        "\n",
        "In the above image (first image in the test set) we can clearly see that airplane pixels are correlated, runway pixels are correlated, sky pixels are correlated, etc.\n",
        "\n",
        "One factor that affects the maximum likelihood classifiers is the  assumption of observation independence.  It is made for convenience but it does not reflect real data.\n",
        "\n",
        "Finally, the fact that both classifiers are linear is also detrimental to their predictive power, since it does not capture the non-linear relationships here.  A kernel SVM might perform better in this case.\n",
        "\n",
        "As for the image size, the smaller we resize the image, the more information we lose. Below 16x16, the algorithms struggle more with classifying images due to the detail loss. However, the difference of information loss between 16x16 and 32x32 is negligible. We can see in the image below that we can still make out the plane in the 32x32 and 16x16 images. At 8x8 the plane loses its shape and fuses with the runway. At 4x4 the whole image consists of 2 areas.\n",
        "\n",
        "<center><img src=\"https://i.imgur.com/rkX2VvZ.png\" width=600/></center>\n",
        "\n",
        "\n",
        "In contrast, the difference between 32x32 and 16x16 can be explained by the curse of dimesionality. Increasing the feature space makes our data more sparse. Without more data, the classifier would find it easy to separate the training set in more than one way. The classifier would then start learning exceptions that are specific to the training data and do not generalize well when new data is encountered ([Source](https://www.visiondummy.com/2014/04/curse-dimensionality-affect-classification/))."
      ]
    }
  ],
  "metadata": {
    "colab": {
      "name": "Assignment_2.ipynb",
      "provenance": []
    },
    "interpreter": {
      "hash": "31f2aee4e71d21fbe5cf8b01ff0e069b9275f58929596ceb00d14d90e3e16cd6"
    },
    "kernelspec": {
      "display_name": "Python 3",
      "language": "python",
      "name": "python3"
    },
    "language_info": {
      "codemirror_mode": {
        "name": "ipython",
        "version": 3
      },
      "file_extension": ".py",
      "mimetype": "text/x-python",
      "name": "python",
      "nbconvert_exporter": "python",
      "pygments_lexer": "ipython3",
      "version": "3.6.13"
    }
  },
  "nbformat": 4,
  "nbformat_minor": 0
}