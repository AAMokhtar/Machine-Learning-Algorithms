{
  "cells": [
    {
      "cell_type": "code",
      "execution_count": null,
      "metadata": {
        "id": "DRAyZjspFzg0"
      },
      "outputs": [],
      "source": [
        "import numpy as np\n",
        "import matplotlib.pyplot as plt\n",
        "from PIL import Image\n",
        "from math import ceil\n",
        "import pandas as pd\n",
        "import seaborn as sns\n",
        "\n",
        "np.random.seed(1)"
      ]
    },
    {
      "cell_type": "markdown",
      "metadata": {
        "id": "UaD7gUahNCPg"
      },
      "source": [
        "# 1. Naive Bayes Classifier"
      ]
    },
    {
      "cell_type": "markdown",
      "metadata": {
        "id": "N1hmtmKIrPN6"
      },
      "source": [
        "### Helper Methods"
      ]
    },
    {
      "cell_type": "markdown",
      "metadata": {
        "id": "73T0a-FLkydR"
      },
      "source": [
        "#### I. Group the dataset into classes"
      ]
    },
    {
      "cell_type": "code",
      "execution_count": null,
      "metadata": {
        "id": "vebsspx9kby7"
      },
      "outputs": [],
      "source": [
        "def split_classes(samples, labels):\n",
        "  # a dictionary having labels as keys, and a list of samples as values for each label\n",
        "  label_dict = {0: [], 1: []}\n",
        "\n",
        "  # assign samples to their buckets\n",
        "  for indx, sample in enumerate(samples):\n",
        "    label = labels[indx]\n",
        "    label_dict[label].append(sample)\n",
        "\n",
        "  # convert lists into numpy arrays\n",
        "  label_dict[0] = np.array(label_dict[0])\n",
        "  label_dict[1] = np.array(label_dict[1])\n",
        "\n",
        "  return label_dict"
      ]
    },
    {
      "cell_type": "markdown",
      "metadata": {
        "id": "kb1DbSDYSS83"
      },
      "source": [
        "#### II. Frequentist Statistics Parameters\n"
      ]
    },
    {
      "cell_type": "code",
      "execution_count": null,
      "metadata": {
        "id": "15lfIZpCSbPA"
      },
      "outputs": [],
      "source": [
        "def freq_stat_param(x, y):\n",
        "\n",
        "  cond_red = np.zeros(16)\n",
        "  cond_green = np.zeros(16)\n",
        "  cond_blue = np.zeros(16)\n",
        "\n",
        "  cond_prob = np.zeros((2, 3, 16, 1), dtype=np.float64)\n",
        "  classes_prob = np.zeros((2), dtype=np.float64)\n",
        "\n",
        "  for (xi, yi) in zip(x,y):\n",
        "    red = int(xi[0] // 16)\n",
        "    green = int(xi[1] // 16)\n",
        "    blue = int(xi[2] // 16)\n",
        "\n",
        "    cond_prob[yi, 0, red] += 1\n",
        "    cond_prob[yi, 1, green] += 1\n",
        "    cond_prob[yi, 2, blue] += 1\n",
        "\n",
        "    classes_prob[yi] += 1\n",
        "\n",
        "  cond_prob[0] /= classes_prob[0]\n",
        "  cond_prob[1] /= classes_prob[1]\n",
        " \n",
        "  classes_prob /= y.shape[0]\n",
        "\n",
        "  return cond_prob, classes_prob"
      ]
    },
    {
      "cell_type": "markdown",
      "metadata": {
        "id": "ruZg2iWjYU7D"
      },
      "source": [
        "#### III. Probability of Input Given Class"
      ]
    },
    {
      "cell_type": "code",
      "execution_count": null,
      "metadata": {
        "id": "OiqSwIvCYZPo"
      },
      "outputs": [],
      "source": [
        "def p_x_class(cond_probs, sample, label):\n",
        "  red = int(sample[0] // 16)\n",
        "  green = int(sample[1] // 16)\n",
        "  blue = int(sample[2] // 16)\n",
        "\n",
        "  return cond_probs[label][0][red] * cond_probs[label][1][green] * cond_probs[label][2][blue]"
      ]
    },
    {
      "cell_type": "markdown",
      "metadata": {
        "id": "eM5t7aAxaegn"
      },
      "source": [
        "#### IV. Probability of Classes"
      ]
    },
    {
      "cell_type": "code",
      "execution_count": null,
      "metadata": {
        "id": "FyeDKWSkaivZ"
      },
      "outputs": [],
      "source": [
        "def get_class_given_x(samples, cond_probs, classes_probs):\n",
        "\n",
        "  num_of_samples = samples.shape[0]\n",
        "\n",
        "  probs = np.zeros((num_of_samples, 2), dtype=np.float64)\n",
        "\n",
        "  for i in range(num_of_samples):\n",
        "    sample = samples[i]\n",
        "    probs[i, 0] = p_x_class(cond_probs, sample, 0) * classes_probs[0]\n",
        "    probs[i, 1] = p_x_class(cond_probs, sample, 1) * classes_probs[1]\n",
        "\n",
        "  return probs"
      ]
    },
    {
      "cell_type": "markdown",
      "metadata": {
        "id": "v9fcclw6yzCW"
      },
      "source": [
        "#### V. Train Test Split"
      ]
    },
    {
      "cell_type": "code",
      "execution_count": null,
      "metadata": {
        "id": "YLzgYl9Ey33w"
      },
      "outputs": [],
      "source": [
        "def train_test_split(img, bin):\n",
        "  indices = np.random.permutation(img.shape[0])\n",
        "\n",
        "  training_pixel_num = ceil(img.shape[0] * 0.8)\n",
        "\n",
        "  training_idx = indices[:training_pixel_num]\n",
        "  test_idx = indices[training_pixel_num:]\n",
        "\n",
        "  training_x, test_x = img[training_idx], img[test_idx]\n",
        "  training_y, test_y = bin[training_idx], bin[test_idx]\n",
        "\n",
        "  return training_x, training_y, training_idx, test_x, test_y, test_idx"
      ]
    },
    {
      "cell_type": "markdown",
      "metadata": {
        "id": "tBZaPzr-rJAP"
      },
      "source": [
        "### Naive Bayes Classifier Class\n"
      ]
    },
    {
      "cell_type": "code",
      "execution_count": null,
      "metadata": {
        "id": "Ktl2BmvlNWa-"
      },
      "outputs": [],
      "source": [
        "class BM:\n",
        "  def BayesModel(dta, gt):\n",
        "    cond_probs, classes_probs = freq_stat_param(dta, gt)\n",
        "    return cond_probs, classes_probs\n",
        "\n",
        "  def fit(self, dta, gt):\n",
        "    self.cond_probs, self.classes_probs = BM.BayesModel(dta, gt)\n",
        "  \n",
        "  def BayesPredict(self, td):\n",
        "    # get the probability of the test set belonging to each class\n",
        "    probs = get_class_given_x(td, self.cond_probs, self.classes_probs)\n",
        "    # get the predictions \n",
        "    y_pred = np.argmax(probs, axis=1)\n",
        "\n",
        "    return y_pred\n",
        "\n",
        "  def ConfMtrx(gt, lbl):\n",
        "    confusion = np.zeros((2, 2)) # matrix size for 2 classes\n",
        "\n",
        "    # populate the matrix\n",
        "    for i in range(len(gt)):\n",
        "      confusion[lbl[i], gt[i]]+=1\n",
        "\n",
        "    confusion_df = pd.DataFrame(confusion, [0, 1], [0, 1])\n",
        "    confusion_df.index.name = 'Actual'\n",
        "    confusion_df.columns.name = 'Predicted'\n",
        "    sns.set(font_scale=1.5)\n",
        "    sns.heatmap(confusion_df,cmap=\"vlag\", annot=True, annot_kws={\"size\": 20}, fmt='g')\n",
        "    plt.show()\n",
        "\n",
        "    return confusion\n"
      ]
    },
    {
      "cell_type": "markdown",
      "metadata": {
        "id": "qovzhWFBfiBX"
      },
      "source": [
        "\n",
        "\n",
        "---\n",
        "\n"
      ]
    },
    {
      "cell_type": "markdown",
      "metadata": {
        "id": "z1_xsXAp1Pba"
      },
      "source": [
        "# Applying NB\n",
        "\n",
        "## I. Loading the Image and Applying Quantization and Thresholding"
      ]
    },
    {
      "cell_type": "code",
      "execution_count": null,
      "metadata": {
        "id": "hIPnbiYd1sXN"
      },
      "outputs": [],
      "source": [
        "def quantize(img, IQ):\n",
        "  img_quantized = np.zeros(img.shape)\n",
        "\n",
        "  rows = img.shape[0]\n",
        "  cols = img.shape[1]\n",
        "\n",
        "  for i in range(rows):\n",
        "    for j in range(cols):\n",
        "      img_quantized[i,j] = IQ * (img[i,j] // IQ)\n",
        "\n",
        "  return img_quantized"
      ]
    },
    {
      "cell_type": "code",
      "execution_count": null,
      "metadata": {
        "id": "Dcdc49dDrA7p"
      },
      "outputs": [],
      "source": [
        "def otsu(img):\n",
        "  # Set total number of bins in the histogram\n",
        "  bins_num = 256\n",
        "  # Get the image histogram\n",
        "  hist, bin_edges = np.histogram(img, bins=bins_num)\n",
        "  # Get normalized histogram if it is required\n",
        "  hist = np.divide(hist.ravel(), hist.max())\n",
        "  # Calculate centers of bins\n",
        "  bin_mids = (bin_edges[:-1] + bin_edges[1:]) / 2\n",
        "  # Iterate over all thresholds (indices) and get the probabilities w1(t), w2(t)\n",
        "  weight1 = np.cumsum(hist)\n",
        "  weight2 = np.cumsum(hist[::-1])[::-1]\n",
        "  # Get the class means mu0(t)\n",
        "  mean1 = np.cumsum(hist * bin_mids) / weight1\n",
        "  # Get the class means mu1(t)\n",
        "  mean2 = (np.cumsum((hist * bin_mids)[::-1]) / weight2[::-1])[::-1]\n",
        "  inter_class_variance = weight1[:-1] * weight2[1:] * (mean1[:-1] - mean2[1:]) ** 2\n",
        "  # Maximize the inter_class_variance function val\n",
        "  index_of_max_val = np.argmax(inter_class_variance)\n",
        "  threshold = bin_mids[:-1][index_of_max_val]\n",
        "  return threshold"
      ]
    },
    {
      "cell_type": "code",
      "execution_count": null,
      "metadata": {
        "id": "LnSakN0d1SXQ"
      },
      "outputs": [],
      "source": [
        "img_c = np.asarray(Image.open('Data/71046c.jpeg'))\n",
        "\n",
        "img_gs = np.asarray(Image.open('Data/71046.jpeg'))\n",
        "threshold = otsu(img_gs)\n",
        "img_bin = (img_gs > threshold)\n",
        "\n",
        "IQ = 16\n",
        "img_c_quantized = quantize(img_c, IQ).reshape(-1, 3)\n",
        "\n",
        "train_x, train_y, train_idx, test_x, test_y, test_idx = train_test_split(img_c_quantized, np.reshape(img_bin.astype(np.int8), -1))"
      ]
    },
    {
      "cell_type": "markdown",
      "metadata": {
        "id": "whpKn56T7PrD"
      },
      "source": [
        "# II. Training and Testing the NB Model"
      ]
    },
    {
      "cell_type": "code",
      "execution_count": null,
      "metadata": {
        "id": "IhbogYhV7TVa"
      },
      "outputs": [],
      "source": [
        "bm = BM()\n",
        "\n",
        "bm.fit(train_x, train_y)\n",
        "\n",
        "y_pred = bm.BayesPredict(test_x)"
      ]
    },
    {
      "cell_type": "code",
      "execution_count": null,
      "metadata": {
        "colab": {
          "base_uri": "https://localhost:8080/",
          "height": 338
        },
        "id": "JzScJK2mHSuB",
        "outputId": "53202dd0-1668-4bae-b192-8188ca7e6b82"
      },
      "outputs": [
        {
          "data": {
            "image/png": "[encoded data removed]",
            "text/plain": [
              "<PIL.Image.Image image mode=L size=481x321 at 0x7F6414EB4810>"
            ]
          },
          "execution_count": 228,
          "metadata": {},
          "output_type": "execute_result"
        }
      ],
      "source": [
        "ground_truth = Image.fromarray((img_bin * 255).astype('uint8'), 'L')\n",
        "ground_truth"
      ]
    },
    {
      "cell_type": "code",
      "execution_count": null,
      "metadata": {
        "colab": {
          "base_uri": "https://localhost:8080/",
          "height": 338
        },
        "id": "phlOsxT_IuUu",
        "outputId": "532e14c3-87eb-4a8b-8dc6-f6c400609a19"
      },
      "outputs": [
        {
          "data": {
            "image/png": "[encoded data removed]",
            "text/plain": [
              "<PIL.Image.Image image mode=L size=481x321 at 0x7F6414F1DDD0>"
            ]
          },
          "execution_count": 229,
          "metadata": {},
          "output_type": "execute_result"
        }
      ],
      "source": [
        "new_image = np.zeros(img_c_quantized.shape[0])\n",
        "\n",
        "new_image[train_idx] = train_y\n",
        "new_image[test_idx] = y_pred\n",
        "new_image = (new_image * 255).astype('uint8')\n",
        "\n",
        "img_pred = Image.fromarray(new_image.reshape(img_bin.shape), 'L')\n",
        "img_pred"
      ]
    },
    {
      "cell_type": "code",
      "execution_count": null,
      "metadata": {
        "colab": {
          "base_uri": "https://localhost:8080/",
          "height": 298
        },
        "id": "xvkD2h_LJfb9",
        "outputId": "19a678db-0e49-46ad-d9a4-15fdace9ef61"
      },
      "outputs": [
        {
          "data": {
            "image/png": "[encoded data removed]",
            "text/plain": [
              "<Figure size 432x288 with 2 Axes>"
            ]
          },
          "metadata": {},
          "output_type": "display_data"
        }
      ],
      "source": [
        "c = BM.ConfMtrx(test_y, y_pred)"
      ]
    }
  ],
  "metadata": {
    "colab": {
      "collapsed_sections": [],
      "name": "DLCV | Assignment 1.5.ipynb",
      "provenance": []
    },
    "kernelspec": {
      "display_name": "Python 3",
      "name": "python3"
    },
    "language_info": {
      "name": "python"
    }
  },
  "nbformat": 4,
  "nbformat_minor": 0
}
